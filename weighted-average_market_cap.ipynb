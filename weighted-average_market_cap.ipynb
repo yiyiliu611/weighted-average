{
 "cells": [
  {
   "cell_type": "code",
   "execution_count": 1,
   "metadata": {},
   "outputs": [],
   "source": [
    "import numpy as np\n",
    "import pandas as pd\n",
    "import matplotlib.pyplot as plt"
   ]
  },
  {
   "cell_type": "code",
   "execution_count": 2,
   "metadata": {},
   "outputs": [],
   "source": [
    "AidCoin=pd.read_csv(\"AidCoin.csv\")\n",
    "decred=pd.read_csv(\"decred.csv\")\n",
    "ecobit=pd.read_csv(\"ecobit.csv\")\n",
    "faircoin=pd.read_csv(\"faircoin.csv\")\n",
    "df1=AidCoin.loc[:,[\"Date\",\"Market_Cap\"]]\n",
    "df2=decred.loc[:,[\"Date\",\"Market_Cap\"]]\n",
    "df3=ecobit.loc[:,[\"Date\",\"Market_Cap\"]]\n",
    "df4=faircoin.loc[:,[\"Date\",\"Market_Cap\"]]"
   ]
  },
  {
   "cell_type": "code",
   "execution_count": 4,
   "metadata": {},
   "outputs": [],
   "source": [
    "#Replace all \"-\" in Market_cap with 0\n",
    "for i in range(len(df1)):\n",
    "    df1.iloc[i,1]=df1.iloc[i,1].replace(\"-\", str(0))\n",
    "for i in range(len(df2)):\n",
    "    df2.iloc[i,1]=df2.iloc[i,1].replace(\"-\", str(0))\n",
    "for i in range(len(df3)):\n",
    "    df3.iloc[i,1]=df3.iloc[i,1].replace(\"-\", str(0))\n",
    "for i in range(len(df4)):\n",
    "    df4.iloc[i,1]=df4.iloc[i,1].replace(\"-\", str(0))"
   ]
  },
  {
   "cell_type": "code",
   "execution_count": 5,
   "metadata": {},
   "outputs": [],
   "source": [
    "for i in range(len(df1)):\n",
    "    df1.iloc[i,1]=df1.iloc[i,1].replace(\" \", \"\")\n",
    "    df1.iloc[i,1] = int(df1.iloc[i,1])\n",
    "for i in range(len(df2)):\n",
    "    df2.iloc[i,1]=df2.iloc[i,1].replace(\" \", \"\")\n",
    "    df2.iloc[i,1] = int(df2.iloc[i,1])\n",
    "for i in range(len(df3)):\n",
    "    df3.iloc[i,1]=df3.iloc[i,1].replace(\" \", \"\")\n",
    "    df3.iloc[i,1] = int(df3.iloc[i,1])\n",
    "for i in range(len(df4)):\n",
    "    df4.iloc[i,1]=df4.iloc[i,1].replace(\" \", \"\")\n",
    "    df4.iloc[i,1] = int(df4.iloc[i,1])"
   ]
  },
  {
   "cell_type": "code",
   "execution_count": 6,
   "metadata": {},
   "outputs": [],
   "source": [
    "df = pd.merge(df4, df3, on='Date', how='left')\n",
    "df=pd.merge(df,df2, on='Date', how='left')\n",
    "df=pd.merge(df,df1, on='Date', how='left')\n",
    "df.columns = ['Date','faircoin_Market','ecobit_Market','decred_Market','AidCoin_Market']\n",
    "df=df.fillna(0)"
   ]
  },
  {
   "cell_type": "code",
   "execution_count": 10,
   "metadata": {},
   "outputs": [],
   "source": [
    "weighted_market=[]\n",
    "for i in range(len(df)):\n",
    "    a=(df.iloc[i,1]+df.iloc[i,2]+df.iloc[i,3]+df.iloc[i,4])/4\n",
    "    weighted_market.append(a)\n",
    "    "
   ]
  },
  {
   "cell_type": "code",
   "execution_count": 11,
   "metadata": {},
   "outputs": [],
   "source": [
    "df_weighted_market = pd.DataFrame(df['Date'],columns=['Date']) \n",
    "df_weighted_market = df_weighted_market.assign(weighted_market = weighted_market)"
   ]
  },
  {
   "cell_type": "code",
   "execution_count": 13,
   "metadata": {},
   "outputs": [],
   "source": [
    "df_weighted_market.to_csv(\"weighted_market.csv\")"
   ]
  },
  {
   "cell_type": "code",
   "execution_count": null,
   "metadata": {},
   "outputs": [],
   "source": []
  }
 ],
 "metadata": {
  "kernelspec": {
   "display_name": "Python 3",
   "language": "python",
   "name": "python3"
  },
  "language_info": {
   "codemirror_mode": {
    "name": "ipython",
    "version": 3
   },
   "file_extension": ".py",
   "mimetype": "text/x-python",
   "name": "python",
   "nbconvert_exporter": "python",
   "pygments_lexer": "ipython3",
   "version": "3.7.3"
  }
 },
 "nbformat": 4,
 "nbformat_minor": 2
}
