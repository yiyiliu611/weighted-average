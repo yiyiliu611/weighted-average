{
 "cells": [
  {
   "cell_type": "code",
   "execution_count": 11,
   "metadata": {},
   "outputs": [],
   "source": [
    "import numpy as np\n",
    "import pandas as pd\n",
    "import matplotlib.pyplot as plt"
   ]
  },
  {
   "cell_type": "code",
   "execution_count": 12,
   "metadata": {},
   "outputs": [],
   "source": [
    "AidCoin=pd.read_csv(\"AidCoin.csv\")\n",
    "decred=pd.read_csv(\"decred.csv\")\n",
    "ecobit=pd.read_csv(\"ecobit.csv\")\n",
    "faircoin=pd.read_csv(\"faircoin.csv\")\n",
    "df1=AidCoin.loc[:,[\"Date\",\"Volume\",\"Market_Cap\"]]\n",
    "df2=decred.loc[:,[\"Date\",\"Volume\",\"Market_Cap\"]]\n",
    "df3=ecobit.loc[:,[\"Date\",\"Volume\",\"Market_Cap\"]]\n",
    "df4=faircoin.loc[:,[\"Date\",\"Volume\",\"Market_Cap\"]]"
   ]
  },
  {
   "cell_type": "code",
   "execution_count": 13,
   "metadata": {},
   "outputs": [],
   "source": [
    "#replace \"-\" with 0 in the Market_Cap\n",
    "#df1= df1.drop(df1[df1.Market_Cap == \"-\"].index)\n",
    "#df2= df2.drop(df2[df2.Market_Cap == \"-\"].index)\n",
    "#df3= df3.drop(df3[df3.Market_Cap == \"-\"].index)\n",
    "#df4= df4.drop(df4[df4.Market_Cap == \"-\"].index)"
   ]
  },
  {
   "cell_type": "code",
   "execution_count": 14,
   "metadata": {},
   "outputs": [],
   "source": [
    "#Replace all \"-\" in Market_cap with 0\n",
    "for i in range(len(df1)):\n",
    "    df1.iloc[i,2]=df1.iloc[i,2].replace(\"-\", str(0))\n",
    "for i in range(len(df2)):\n",
    "    df2.iloc[i,2]=df2.iloc[i,2].replace(\"-\", str(0))\n",
    "for i in range(len(df3)):\n",
    "    df3.iloc[i,2]=df3.iloc[i,2].replace(\"-\", str(0))\n",
    "for i in range(len(df4)):\n",
    "    df4.iloc[i,2]=df4.iloc[i,2].replace(\"-\", str(0))\n",
    "for i in range(len(df3)):\n",
    "    df3.iloc[i,1]=df3.iloc[i,1].replace(\"-\", str(0))\n",
    "for i in range(len(df4)):\n",
    "    df4.iloc[i,1]=df4.iloc[i,1].replace(\"-\", str(0))"
   ]
  },
  {
   "cell_type": "code",
   "execution_count": 15,
   "metadata": {},
   "outputs": [],
   "source": [
    "for i in range(len(df1)):\n",
    "    df1.iloc[i,1]=df1.iloc[i,1].replace(\" \", \"\")\n",
    "    df1.iloc[i,1] = int(df1.iloc[i,1])\n",
    "    df1.iloc[i,2]=df1.iloc[i,2].replace(\" \", \"\")\n",
    "    df1.iloc[i,2] = int(df1.iloc[i,2])\n",
    "for i in range(len(df2)):\n",
    "    df2.iloc[i,1]=df2.iloc[i,1].replace(\" \", \"\")\n",
    "    df2.iloc[i,1] = int(df2.iloc[i,1])\n",
    "    df2.iloc[i,2]=df2.iloc[i,2].replace(\" \", \"\")\n",
    "    df2.iloc[i,2] = int(df2.iloc[i,2])\n",
    "for i in range(len(df3)):\n",
    "    df3.iloc[i,1]=df3.iloc[i,1].replace(\" \", \"\")\n",
    "    df3.iloc[i,1] = int(df3.iloc[i,1])\n",
    "    df3.iloc[i,2]=df3.iloc[i,2].replace(\" \", \"\")\n",
    "    df3.iloc[i,2] = int(df3.iloc[i,2])\n",
    "for i in range(len(df4)):\n",
    "    df4.iloc[i,1]=df4.iloc[i,1].replace(\" \", \"\")\n",
    "    df4.iloc[i,1] = int(df4.iloc[i,1])\n",
    "    df4.iloc[i,2]=df4.iloc[i,2].replace(\" \", \"\")\n",
    "    df4.iloc[i,2] = int(df4.iloc[i,2])"
   ]
  },
  {
   "cell_type": "code",
   "execution_count": 16,
   "metadata": {},
   "outputs": [],
   "source": [
    "df = pd.merge(df4, df3, on='Date', how='left')\n",
    "df=pd.merge(df,df2, on='Date', how='left')\n",
    "df=pd.merge(df,df1, on='Date', how='left')\n",
    "df.columns = ['Date','faircoin_Volume','faircoin_Market','ecobit_Volume','ecobit_Market',\n",
    "                     \"decred_Volume\",'decred_Market','AidCoin_Volume','AidCoin_Market']\n",
    "df=df.fillna(0)"
   ]
  },
  {
   "cell_type": "code",
   "execution_count": 17,
   "metadata": {
    "scrolled": true
   },
   "outputs": [],
   "source": [
    "weighted_Volume=[]\n",
    "for i in range(len(df)):\n",
    "    a=((df.iloc[i,1])*(df.iloc[i,2])+(df.iloc[i,3])*(df.iloc[i,4])+(df.iloc[i,5])*(df.iloc[i,6])\\\n",
    "    +(df.iloc[i,7])*(df.iloc[i,8]))/(df.iloc[i,2]+df.iloc[i,4]+df.iloc[i,6]+df.iloc[i,8])\n",
    "    weighted_Volume.append(a)"
   ]
  },
  {
   "cell_type": "code",
   "execution_count": 18,
   "metadata": {},
   "outputs": [],
   "source": [
    "df_Volume = pd.DataFrame(df['Date'],columns=['Date']) \n",
    "df_Volume = df_Volume.assign(weighted_Volume = weighted_Volume)"
   ]
  },
  {
   "cell_type": "code",
   "execution_count": 19,
   "metadata": {},
   "outputs": [],
   "source": [
    "df_Volume.to_csv(\"weighted_Volume.csv\")"
   ]
  },
  {
   "cell_type": "code",
   "execution_count": null,
   "metadata": {},
   "outputs": [],
   "source": []
  }
 ],
 "metadata": {
  "kernelspec": {
   "display_name": "Python 3",
   "language": "python",
   "name": "python3"
  },
  "language_info": {
   "codemirror_mode": {
    "name": "ipython",
    "version": 3
   },
   "file_extension": ".py",
   "mimetype": "text/x-python",
   "name": "python",
   "nbconvert_exporter": "python",
   "pygments_lexer": "ipython3",
   "version": "3.7.3"
  }
 },
 "nbformat": 4,
 "nbformat_minor": 2
}
